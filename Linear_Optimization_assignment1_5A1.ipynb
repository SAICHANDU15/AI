{
  "nbformat": 4,
  "nbformat_minor": 0,
  "metadata": {
    "colab": {
      "name": "Linear_Optimization_assignment1-5A1.ipynb",
      "provenance": [],
      "authorship_tag": "ABX9TyNbiskJvoOXkb9M6R0O+0za",
      "include_colab_link": true
    },
    "kernelspec": {
      "name": "python3",
      "display_name": "Python 3"
    },
    "language_info": {
      "name": "python"
    }
  },
  "cells": [
    {
      "cell_type": "markdown",
      "metadata": {
        "id": "view-in-github",
        "colab_type": "text"
      },
      "source": [
        "<a href=\"https://colab.research.google.com/github/SAICHANDU15/AI/blob/main/Linear_Optimization_assignment1_5A1.ipynb\" target=\"_parent\"><img src=\"https://colab.research.google.com/assets/colab-badge.svg\" alt=\"Open In Colab\"/></a>"
      ]
    },
    {
      "cell_type": "code",
      "metadata": {
        "colab": {
          "base_uri": "https://localhost:8080/"
        },
        "id": "5FpZtwObZwgb",
        "outputId": "810ee4bd-4b93-4b44-ba5b-e71629b55e29"
      },
      "source": [
        "from scipy.optimize import linprog\n",
        "obj=[-50,-120]\n",
        "A_ieq=[[7000,2000],[10,30],[1,1]]\n",
        "b_ieq=[700000,1200,110]\n",
        "boundary=[(0,float('inf')),(0,float('inf'))]\n",
        "optimal=linprog(c=obj,A_ub=A_ieq,b_ub=b_ieq,A_eq=None,b_eq=None,bounds=boundary,method=\"Simplex\")\n",
        "optimal.x\n",
        "print('Number of hectares farmer should produce Wheat=',round(optimal.x[0]))\n",
        "print('Number of hectares farmer should produce Barley=',round(optimal.x[1]))\n",
        "print('The optimal solution and the optimal value i.e the maximum profit=',(round(optimal.x[0])*50)+(round(optimal.x[1])*120))"
      ],
      "execution_count": 3,
      "outputs": [
        {
          "output_type": "stream",
          "text": [
            "Number of hectares farmer should produce Wheat= 98\n",
            "Number of hectares farmer should produce Barley= 7\n",
            "The optimal solution and the optimal value i.e the maximum profit= 5740\n"
          ],
          "name": "stdout"
        }
      ]
    }
  ]
}